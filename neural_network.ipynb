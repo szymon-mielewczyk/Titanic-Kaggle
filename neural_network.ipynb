{
 "cells": [
  {
   "cell_type": "code",
   "execution_count": 3,
   "metadata": {},
   "outputs": [],
   "source": [
    "import pandas as pd\n",
    "import os\n",
    "import torch\n",
    "import numpy as np\n",
    "import matplotlib.pyplot as plt\n",
    "import random\n",
    "from torch.utils.data import DataLoader\n",
    "from skopt import BayesSearchCV\n",
    "from skorch import NeuralNetClassifier\n",
    "from sklearn.metrics import accuracy_score, f1_score"
   ]
  },
  {
   "cell_type": "code",
   "execution_count": 4,
   "metadata": {},
   "outputs": [],
   "source": [
    "# fix seed for reproducibility\n",
    "SEED = 0\n",
    "torch.manual_seed(SEED)\n",
    "random.seed(SEED)\n",
    "np.random.seed(SEED)"
   ]
  },
  {
   "cell_type": "code",
   "execution_count": 5,
   "metadata": {},
   "outputs": [],
   "source": [
    "# Preprocess and clean data\n",
    "def clean_df(df, test=False):\n",
    "    \n",
    "    # Drop PassengerId and Name\n",
    "    df.drop('PassengerId', axis='columns', inplace=True)\n",
    "    df.drop('Name', axis='columns', inplace=True)\n",
    "\n",
    "    # Cabin dictionary, char to int\n",
    "    cabin_dict = {\n",
    "    'A':1,\n",
    "    'B':2,\n",
    "    'C':3,\n",
    "    'D':4,\n",
    "    'E':5,\n",
    "    'F':6,\n",
    "    'G':7,\n",
    "    'H':8,\n",
    "    'T':9\n",
    "    }\n",
    "\n",
    "    # Change cabin value just to numbers, ex.  B36 -> 236\n",
    "    # Iterate by rows\n",
    "    for c_i, cabin in enumerate(df['Cabin']):\n",
    "        # Change only value with str datatype, \n",
    "        if not isinstance(cabin,str):\n",
    "            continue\n",
    "        # Iterate by row value\n",
    "        for n_i ,char in enumerate(cabin):\n",
    "            # Start iterating from last to first char\n",
    "            index = -1 - n_i\n",
    "            # If given char in cabin dictionary\n",
    "            if cabin[index] in cabin_dict.keys():\n",
    "                # Cabin letter to ID\n",
    "                cabin_letter_id = str(cabin_dict[cabin[index]])\n",
    "                # Cabin number\n",
    "                cabin_number = str(df['Cabin'][c_i][index+1:])\n",
    "                # If cabin number == cabin letter put empty value\n",
    "                if cabin_number in cabin_dict.keys(): cabin_number = ''\n",
    "                # Join letter with number and change that value in dataframe\n",
    "                df.loc[c_i, 'Cabin'] =  int(cabin_letter_id + cabin_number)\n",
    "                break\n",
    "\n",
    "    # Change cabing datatype to float\n",
    "    df['Cabin'] = (df['Cabin']).astype(float)\n",
    "\n",
    "    # Change ticket value just to numbers\n",
    "    # Iterate by rows\n",
    "    for t_i, ticket in enumerate(df['Ticket']):\n",
    "        # If ticket value == LINE change to 0\n",
    "        if ticket == 'LINE':\n",
    "            df.loc[t_i, 'Ticket'] = 0\n",
    "        # Iterate by row value\n",
    "        for c_i ,char in enumerate(ticket):\n",
    "            # Start iterating from last to first char\n",
    "            index = -1 - c_i\n",
    "            # If whitespace found \n",
    "            if ticket[index] == ' ':\n",
    "                # Change value to numbers after whitespace\n",
    "                df.loc[t_i, 'Ticket'] = df['Ticket'][t_i][index+1:]   \n",
    "                break\n",
    "        continue\n",
    "\n",
    "    # Reset dataframe indexing\n",
    "    df.reset_index()\n",
    "\n",
    "    # Embarked dictionary, char to int\n",
    "    embarked_dict = {\n",
    "    'C':0,\n",
    "    'Q':1,\n",
    "    'S':2\n",
    "    }\n",
    "\n",
    "    # Sex dictionary, str to int\n",
    "    sex_dict = {\n",
    "        'male':0,\n",
    "        'female':1\n",
    "    }\n",
    "\n",
    "    # Replace values in dataframe with dictionaries\n",
    "    df.replace({'Sex':sex_dict}, inplace=True)\n",
    "    df.replace({'Embarked':embarked_dict}, inplace=True)\n",
    "\n",
    "    # Fill na values with mean\n",
    "    df.fillna(\n",
    "                {\n",
    "                'Age': df['Age'].mean(),\n",
    "                'Cabin': df['Cabin'].mean(),\n",
    "                'Embarked': df['Embarked'].mean()\n",
    "                },\n",
    "                inplace=True\n",
    "                ) \n",
    "    \n",
    "    # If training data save temporary column\n",
    "    if not test:\n",
    "        df_y = df['Survived']\n",
    "        df_y= (df_y).astype(float)\n",
    "        # drop survived from dataframe\n",
    "        df.drop('Survived', axis='columns', inplace=True)\n",
    "    \n",
    "    # drop rows with empty Ticket value\n",
    "    df = df[df.Ticket != '']\n",
    "    # Change Ticket datatype\n",
    "    df['Ticket'] = (df['Ticket']).astype(float)\n",
    "\n",
    "    # Change dataframe values range from 0 to 1\n",
    "    df=(df-df.min())/(df.max()-df.min())\n",
    "\n",
    "    # If training join Survived column\n",
    "    if not test:\n",
    "        df = df.join(df_y)\n",
    "\n",
    "    return df"
   ]
  },
  {
   "cell_type": "code",
   "execution_count": null,
   "metadata": {},
   "outputs": [],
   "source": [
    "# Load data\n",
    "# Train\n",
    "DATA_PATH = 'data'\n",
    "train_data_path = os.path.join(DATA_PATH,'train.csv')\n",
    "train_df = pd.read_csv(train_data_path, sep=',')\n",
    "\n",
    "# Test\n",
    "test_data_path = os.path.join(DATA_PATH,'test.csv')\n",
    "test_df = pd.read_csv(test_data_path, sep=',')\n",
    "\n",
    "# Preprocess data\n",
    "train_df = clean_df(train_df)\n",
    "test_df = clean_df(test_df, test=True)\n",
    "train_df = train_df.to_numpy()\n",
    "test_df = test_df.to_numpy()\n",
    "\n",
    "# Split data\n",
    "train_set, val_set = torch.utils.data.random_split(train_df, [700, 191])\n",
    "\n",
    "# Create dataloaders\n",
    "batach_size = 16\n",
    "train_dataloader = DataLoader(dataset=train_set, batch_size=batach_size, shuffle=True) \n",
    "val_dataloader = DataLoader(dataset=val_set, batch_size=batach_size, shuffle=False)\n",
    "test_dataloader = DataLoader(dataset=test_df, batch_size=batach_size, shuffle=False)"
   ]
  },
  {
   "cell_type": "code",
   "execution_count": 18,
   "metadata": {},
   "outputs": [],
   "source": [
    "# Model for preditions\n",
    "class Titanic(torch.nn.Module):\n",
    "\n",
    "  # define model\n",
    "  def __init__(self):\n",
    "    super(Titanic, self).__init__()\n",
    "    self.fc1 = torch.nn.Linear(9,128,dtype=float)\n",
    "    self.fc2 = torch.nn.Linear(128,64,dtype=float)\n",
    "    self.fc3 = torch.nn.Linear(64,32,dtype=float)\n",
    "    self.fc4 = torch.nn.Linear(32,16,dtype=float)\n",
    "    self.fc5 = torch.nn.Linear(16,2,dtype=float)\n",
    "    self.activation = torch.nn.ReLU()\n",
    "    self.softmax = torch.nn.Softmax(dim=1)\n",
    "\n",
    "  # define forward\n",
    "  def forward(self, x):\n",
    "    x = self.fc1(x)\n",
    "    x = self.activation(x)\n",
    "    x = self.fc2(x)\n",
    "    x = self.activation(x)\n",
    "    x = self.fc3(x)\n",
    "    x = self.activation(x)\n",
    "    x = self.fc4(x)\n",
    "    x = self.activation(x)\n",
    "    x = self.fc5(x)\n",
    "    x = self.softmax(x)\n",
    "    return x"
   ]
  },
  {
   "cell_type": "code",
   "execution_count": 19,
   "metadata": {},
   "outputs": [],
   "source": [
    "# create model\n",
    "model = Titanic()"
   ]
  },
  {
   "cell_type": "code",
   "execution_count": 23,
   "metadata": {},
   "outputs": [
    {
     "name": "stdout",
     "output_type": "stream",
     "text": [
      "Epoch: 0\n",
      "Epoch: 1\n",
      "Epoch: 2\n",
      "Epoch: 3\n",
      "Epoch: 4\n"
     ]
    }
   ],
   "source": [
    "# define loss function\n",
    "loss_fn = torch.nn.CrossEntropyLoss()\n",
    "\n",
    "# define optimizer \n",
    "optimizer = torch.optim.Adam(model.parameters(), lr= 0.00009976160848023435)\n",
    "\n",
    "# set model to train\n",
    "model.train()\n",
    "\n",
    "# set number of training epochs\n",
    "EPOCHS = 5\n",
    "\n",
    "# define training variables\n",
    "running_loss = 0\n",
    "history = []\n",
    "\n",
    "# training loop\n",
    "for epoch in range(EPOCHS):\n",
    "  print('Epoch:', epoch)\n",
    "  for i,batch in enumerate(train_dataloader):\n",
    "    x,y = batch[:,:-1],batch[:,-1]\n",
    "    pred = model(x)\n",
    "    y = y.type(torch.int64)\n",
    "    loss = loss_fn(pred, y)\n",
    "    optimizer.zero_grad()\n",
    "    loss.backward()\n",
    "    optimizer.step()\n",
    "    running_loss += loss.item()\n",
    "    history.append(loss.item())\n",
    "    # print loss every 100 batches\n",
    "    if i % 10 == 99:\n",
    "        last_loss = running_loss / 1000 # loss per batch\n",
    "        print('  batch {} loss: {}'.format(i + 1, last_loss))\n",
    "        running_loss = 0."
   ]
  },
  {
   "cell_type": "code",
   "execution_count": 24,
   "metadata": {},
   "outputs": [
    {
     "data": {
      "text/plain": [
       "[<matplotlib.lines.Line2D at 0x1edfd6e5a90>]"
      ]
     },
     "execution_count": 24,
     "metadata": {},
     "output_type": "execute_result"
    },
    {
     "data": {
      "image/png": "[encoded data removed]",
      "text/plain": [
       "<Figure size 640x480 with 1 Axes>"
      ]
     },
     "metadata": {},
     "output_type": "display_data"
    }
   ],
   "source": [
    "# plot training dataset loss\n",
    "plt.plot(history)"
   ]
  },
  {
   "cell_type": "code",
   "execution_count": 11,
   "metadata": {},
   "outputs": [],
   "source": [
    "# set model for evaluation\n",
    "model.eval()\n",
    "\n",
    "# define variables for evaluation\n",
    "outputs = []\n",
    "labels = []\n",
    "\n",
    "# evaluation loop\n",
    "for batch in val_dataloader:\n",
    "  x,y = batch[:,:-1],batch[:,-1]\n",
    "  y = y.type(torch.int64)\n",
    "  pred = model(x)\n",
    "  pred = torch.argmax(pred,dim=1).detach().numpy()\n",
    "  outputs.extend(pred)\n",
    "  labels.extend(y)"
   ]
  },
  {
   "cell_type": "code",
   "execution_count": 12,
   "metadata": {},
   "outputs": [
    {
     "name": "stdout",
     "output_type": "stream",
     "text": [
      "Accuracy: 0.8219895287958116\n",
      "F1: 0.8120457204226839\n"
     ]
    }
   ],
   "source": [
    "# calculate evaluation metrics\n",
    "acc = accuracy_score(labels, outputs)\n",
    "f1 = f1_score(labels, outputs, average='weighted')\n",
    "\n",
    "print('Accuracy:', acc)\n",
    "print('F1:', f1)"
   ]
  },
  {
   "cell_type": "code",
   "execution_count": 13,
   "metadata": {},
   "outputs": [],
   "source": [
    "# Place model in sklearn environment\n",
    "net = NeuralNetClassifier(\n",
    "    Titanic,\n",
    "    max_epochs=10,\n",
    "    lr=0.1,\n",
    "    # Shuffle training data on each epoch\n",
    "    iterator_train__shuffle=True,\n",
    ")\n",
    "net.set_params(train_split=False, verbose=0)\n",
    "\n",
    "# Define param space\n",
    "param_space = {\n",
    "    'lr': (1e-6, 1e-3, 'log-uniform'),\n",
    "    'max_epochs': [10, 15, 20],\n",
    "    'batch_size': [8,16,32,64]\n",
    "\n",
    "}\n",
    "\n",
    "# Initialize Bayesian Optimization\n",
    "opt = BayesSearchCV(\n",
    "    net,\n",
    "    param_space,\n",
    "    n_iter=32,\n",
    "    cv=3\n",
    ")\n",
    "\n",
    "# Prepera data for sklearn training\n",
    "train_set = np.array(train_set)\n",
    "val_set = np.array(val_set)\n",
    "X_train,y_train = train_set[:,:-1],train_set[:,-1]\n",
    "X_test,y_test = val_set[:,:-1],val_set[:,-1]\n",
    "y_train = y_train.astype(int)"
   ]
  },
  {
   "cell_type": "code",
   "execution_count": null,
   "metadata": {},
   "outputs": [],
   "source": [
    "# train model\n",
    "opt.fit(X_train, y_train)"
   ]
  },
  {
   "cell_type": "code",
   "execution_count": 15,
   "metadata": {},
   "outputs": [
    {
     "data": {
      "text/plain": [
       "OrderedDict([('batch_size', 16),\n",
       "             ('lr', 0.0008643924706566204),\n",
       "             ('max_epochs', 20)])"
      ]
     },
     "execution_count": 15,
     "metadata": {},
     "output_type": "execute_result"
    }
   ],
   "source": [
    "opt.best_params_"
   ]
  }
 ],
 "metadata": {
  "kernelspec": {
   "display_name": ".venv",
   "language": "python",
   "name": "python3"
  },
  "language_info": {
   "codemirror_mode": {
    "name": "ipython",
    "version": 3
   },
   "file_extension": ".py",
   "mimetype": "text/x-python",
   "name": "python",
   "nbconvert_exporter": "python",
   "pygments_lexer": "ipython3",
   "version": "3.11.5"
  }
 },
 "nbformat": 4,
 "nbformat_minor": 2
}
